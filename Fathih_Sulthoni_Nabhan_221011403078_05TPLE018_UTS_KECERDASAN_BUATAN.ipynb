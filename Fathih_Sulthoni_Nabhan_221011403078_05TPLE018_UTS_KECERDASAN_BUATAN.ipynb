{
  "nbformat": 4,
  "nbformat_minor": 0,
  "metadata": {
    "colab": {
      "provenance": [],
      "authorship_tag": "ABX9TyMF8PN1Q4sDYXXVBsoRXir3",
      "include_colab_link": true
    },
    "kernelspec": {
      "name": "python3",
      "display_name": "Python 3"
    },
    "language_info": {
      "name": "python"
    }
  },
  "cells": [
    {
      "cell_type": "markdown",
      "metadata": {
        "id": "view-in-github",
        "colab_type": "text"
      },
      "source": [
        "<a href=\"https://colab.research.google.com/github/FathihSulthoniNabhan/Nabhan/blob/main/Fathih_Sulthoni_Nabhan_221011403078_05TPLE018_UTS_KECERDASAN_BUATAN.ipynb\" target=\"_parent\"><img src=\"https://colab.research.google.com/assets/colab-badge.svg\" alt=\"Open In Colab\"/></a>"
      ]
    },
    {
      "cell_type": "markdown",
      "source": [
        "DATA AWAL"
      ],
      "metadata": {
        "id": "2s197s4zN1vI"
      }
    },
    {
      "cell_type": "code",
      "execution_count": 8,
      "metadata": {
        "id": "lt6bPbepNwVd"
      },
      "outputs": [],
      "source": [
        "company_detail_list = [\n",
        "    {'name': 'Perusahaan A', 'domain': 'Ritel', 'country': 'Indonesia'},\n",
        "    {'name': 'Perusahaan B', 'domain': 'Teknologi', 'country': 'Indonesia'},\n",
        "    {'name': 'Perusahaan C', 'domain': 'Kesehatan', 'country': 'Indonesia'}\n",
        "]\n",
        "\n",
        "employee_detail_list = [\n",
        "    {'name': 'EMP-0001', 'first_name': 'Budi', 'last_name': 'Santoso', 'full_name': 'Budi Santoso', 'company': 'Perusahaan A', 'nationality': 'Indonesia'},\n",
        "    {'name': 'EMP-0002', 'first_name': 'Siti', 'last_name': 'Nurhaliza', 'full_name': 'Siti Nurhaliza', 'company': 'Perusahaan B', 'nationality': 'Indonesia'},\n",
        "    {'name': 'EMP-0003', 'first_name': 'Andi', 'last_name': 'Wijaya', 'full_name': 'Andi Wijaya', 'company': 'Perusahaan C', 'nationality': 'Indonesia'},\n",
        "    {'name': 'EMP-0004', 'first_name': 'Rina', 'last_name': 'Putri', 'full_name': 'Rina Putri', 'company': 'Perusahaan A', 'nationality': 'Indonesia'},\n",
        "    {'name': 'EMP-0005', 'first_name': 'Joko', 'last_name': 'Susanto', 'full_name': 'Joko Susanto', 'company': 'Perusahaan C', 'nationality': 'Indonesia'},\n",
        "    {'name': 'EMP-0006', 'first_name': 'Lina', 'last_name': 'Amalia', 'full_name': 'Lina Amalia', 'company': 'Perusahaan B', 'nationality': 'Indonesia'},\n",
        "    {'name': 'EMP-0007', 'first_name': 'Rahmat', 'last_name': 'Hidayat', 'full_name': 'Rahmat Hidayat', 'company': 'Perusahaan A', 'nationality': 'Malaysia'}\n",
        "]"
      ]
    },
    {
      "cell_type": "markdown",
      "source": [
        "SOAL 1"
      ],
      "metadata": {
        "id": "cS478aM_N_Q3"
      }
    },
    {
      "cell_type": "code",
      "source": [
        "def get_sorted_companies():\n",
        "    sorted_companies = sorted(company_detail_list, key=lambda x: x['name'], reverse=True)\n",
        "    return [{'name': company['name']} for company in sorted_companies]\n",
        "\n",
        "# Memanggil fungsi\n",
        "print(get_sorted_companies())\n"
      ],
      "metadata": {
        "colab": {
          "base_uri": "https://localhost:8080/"
        },
        "id": "8tY36mrTOBCV",
        "outputId": "36ff0a13-33df-4898-c839-912f9bc26869"
      },
      "execution_count": 9,
      "outputs": [
        {
          "output_type": "stream",
          "name": "stdout",
          "text": [
            "[{'name': 'Perusahaan C'}, {'name': 'Perusahaan B'}, {'name': 'Perusahaan A'}]\n"
          ]
        }
      ]
    },
    {
      "cell_type": "markdown",
      "source": [
        "SOAL 2"
      ],
      "metadata": {
        "id": "psvJyjjQOF30"
      }
    },
    {
      "cell_type": "code",
      "source": [
        "def print_company_domains():\n",
        "    for company in company_detail_list:\n",
        "        print(f\"{company['name']}: {company['domain']} ({company['country']})\")\n",
        "\n",
        "# Memanggil fungsi\n",
        "print_company_domains()\n"
      ],
      "metadata": {
        "colab": {
          "base_uri": "https://localhost:8080/"
        },
        "id": "5QUEQrFaOIIH",
        "outputId": "8adb4070-b22f-484e-ec06-c0f3e055ab19"
      },
      "execution_count": 10,
      "outputs": [
        {
          "output_type": "stream",
          "name": "stdout",
          "text": [
            "Perusahaan A: Ritel (Indonesia)\n",
            "Perusahaan B: Teknologi (Indonesia)\n",
            "Perusahaan C: Kesehatan (Indonesia)\n"
          ]
        }
      ]
    },
    {
      "cell_type": "markdown",
      "source": [
        "SOAL 3"
      ],
      "metadata": {
        "id": "sLEvWeR2OIqW"
      }
    },
    {
      "cell_type": "code",
      "source": [
        "from collections import defaultdict\n",
        "\n",
        "def list_employees_by_domain():\n",
        "    domain_employees = defaultdict(list)\n",
        "    company_domains = {company['name']: company['domain'] for company in company_detail_list}\n",
        "\n",
        "    for employee in employee_detail_list:\n",
        "        company = employee['company']\n",
        "        domain = company_domains[company]\n",
        "        domain_employees[domain].append(employee['full_name'])\n",
        "\n",
        "    return dict(domain_employees)\n",
        "\n",
        "# Memanggil fungsi\n",
        "print(list_employees_by_domain())\n"
      ],
      "metadata": {
        "colab": {
          "base_uri": "https://localhost:8080/"
        },
        "id": "0bmQwbYsOJxF",
        "outputId": "7d68a8be-7f76-4421-934e-668f9ac410ac"
      },
      "execution_count": 11,
      "outputs": [
        {
          "output_type": "stream",
          "name": "stdout",
          "text": [
            "{'Ritel': ['Budi Santoso', 'Rina Putri', 'Rahmat Hidayat'], 'Teknologi': ['Siti Nurhaliza', 'Lina Amalia'], 'Kesehatan': ['Andi Wijaya', 'Joko Susanto']}\n"
          ]
        }
      ]
    },
    {
      "cell_type": "markdown",
      "source": [
        "SOAL 4"
      ],
      "metadata": {
        "id": "Yxty0PzCOLf6"
      }
    },
    {
      "cell_type": "code",
      "source": [
        "def employees_with_company_country():\n",
        "    company_countries = {company['name']: company['country'] for company in company_detail_list}\n",
        "\n",
        "    result = [\n",
        "        {\n",
        "            \"full_name\": employee['full_name'],\n",
        "            \"company\": employee['company'],\n",
        "            \"country\": company_countries[employee['company']]\n",
        "        }\n",
        "        for employee in employee_detail_list\n",
        "    ]\n",
        "    return result\n",
        "\n",
        "# Memanggil fungsi\n",
        "print(employees_with_company_country())\n"
      ],
      "metadata": {
        "colab": {
          "base_uri": "https://localhost:8080/"
        },
        "id": "OjMqAJthOMaa",
        "outputId": "673b3f71-5ed0-4c86-c2cb-194742c811a6"
      },
      "execution_count": 12,
      "outputs": [
        {
          "output_type": "stream",
          "name": "stdout",
          "text": [
            "[{'full_name': 'Budi Santoso', 'company': 'Perusahaan A', 'country': 'Indonesia'}, {'full_name': 'Siti Nurhaliza', 'company': 'Perusahaan B', 'country': 'Indonesia'}, {'full_name': 'Andi Wijaya', 'company': 'Perusahaan C', 'country': 'Indonesia'}, {'full_name': 'Rina Putri', 'company': 'Perusahaan A', 'country': 'Indonesia'}, {'full_name': 'Joko Susanto', 'company': 'Perusahaan C', 'country': 'Indonesia'}, {'full_name': 'Lina Amalia', 'company': 'Perusahaan B', 'country': 'Indonesia'}, {'full_name': 'Rahmat Hidayat', 'company': 'Perusahaan A', 'country': 'Indonesia'}]\n"
          ]
        }
      ]
    },
    {
      "cell_type": "markdown",
      "source": [
        "SOAL 5"
      ],
      "metadata": {
        "id": "7CyORljmOOAk"
      }
    },
    {
      "cell_type": "code",
      "source": [
        "from collections import defaultdict\n",
        "\n",
        "def employee_nationality_count():\n",
        "    nationality_count = defaultdict(lambda: defaultdict(int))\n",
        "\n",
        "    for employee in employee_detail_list:\n",
        "        company = employee['company']\n",
        "        nationality = employee['nationality']\n",
        "        nationality_count[company][nationality] += 1\n",
        "\n",
        "    result = [\n",
        "        {\n",
        "            \"company\": company,\n",
        "            \"employee_nationality\": dict(nationalities)\n",
        "        }\n",
        "        for company, nationalities in nationality_count.items()\n",
        "    ]\n",
        "    return result\n",
        "\n",
        "# Memanggil fungsi\n",
        "print(employee_nationality_count())\n"
      ],
      "metadata": {
        "colab": {
          "base_uri": "https://localhost:8080/"
        },
        "id": "7XHE892mOO9Y",
        "outputId": "6c0a523d-3b4c-4242-c534-ad723caa8a04"
      },
      "execution_count": 13,
      "outputs": [
        {
          "output_type": "stream",
          "name": "stdout",
          "text": [
            "[{'company': 'Perusahaan A', 'employee_nationality': {'Indonesia': 2, 'Malaysia': 1}}, {'company': 'Perusahaan B', 'employee_nationality': {'Indonesia': 2}}, {'company': 'Perusahaan C', 'employee_nationality': {'Indonesia': 2}}]\n"
          ]
        }
      ]
    }
  ]
}